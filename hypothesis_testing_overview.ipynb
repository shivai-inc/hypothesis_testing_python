{
 "cells": [
  {
   "cell_type": "markdown",
   "id": "3a9ce83c",
   "metadata": {},
   "source": [
    "# Hypothesis Testing: Overview of Common Statistical Tests"
   ]
  },
  {
   "cell_type": "markdown",
   "id": "f292d612",
   "metadata": {},
   "source": [
    "\n",
    "Hypothesis testing is a fundamental concept in statistics used to determine whether a hypothesis about a population parameter is supported by sample data. \n",
    "In this notebook, we'll cover some of the most common statistical tests, their definitions, formulas, and code examples.\n"
   ]
  },
  {
   "cell_type": "markdown",
   "id": "d57c7685",
   "metadata": {},
   "source": [
    "\n",
    "## 1. One-sample t-test\n",
    "\n",
    "### Definition:\n",
    "The one-sample t-test is used to determine whether the mean of a single sample is significantly different from a known or hypothesized population mean.\n",
    "\n",
    "### Formula:\n",
    "\\[ t = \f",
    "rac{\bar{x} - \\mu}{s / \\sqrt{n}} \\]\n",
    "Where:\n",
    "- \\( \bar{x} \\) is the sample mean\n",
    "- \\( \\mu \\) is the hypothesized population mean\n",
    "- \\( s \\) is the sample standard deviation\n",
    "- \\( n \\) is the sample size\n",
    "\n",
    "### Code Example:\n",
    "```python\n",
    "from scipy.stats import ttest_1samp\n",
    "data = [sample_data]\n",
    "t_stat, p_val = ttest_1samp(data, popmean=hypothesized_mean)\n",
    "```\n"
   ]
  },
  {
   "cell_type": "markdown",
   "id": "df08bfdf",
   "metadata": {},
   "source": [
    "\n",
    "## 2. Two-sample t-test\n",
    "\n",
    "### Definition:\n",
    "The two-sample t-test is used to determine if two sample means are significantly different from each other.\n",
    "\n",
    "### Formula:\n",
    "\\[ t = \f",
    "rac{\bar{x}_1 - \bar{x}_2}{\\sqrt{\f",
    "rac{s^2_1}{n_1} + \f",
    "rac{s^2_2}{n_2}}} \\]\n",
    "Where:\n",
    "- \\( \bar{x}_1 \\) and \\( \bar{x}_2 \\) are the sample means\n",
    "- \\( s^2_1 \\) and \\( s^2_2 \\) are the sample variances\n",
    "- \\( n_1 \\) and \\( n_2 \\) are the sample sizes\n",
    "\n",
    "### Code Example:\n",
    "```python\n",
    "from scipy.stats import ttest_ind\n",
    "data1 = [sample_data1]\n",
    "data2 = [sample_data2]\n",
    "t_stat, p_val = ttest_ind(data1, data2)\n",
    "```\n"
   ]
  },
  {
   "cell_type": "markdown",
   "id": "53174405",
   "metadata": {},
   "source": [
    "\n",
    "## 3. Paired t-test\n",
    "\n",
    "### Definition:\n",
    "The paired t-test is used to determine if the means of two related groups are significantly different.\n",
    "\n",
    "### Formula:\n",
    "\\[ t = \f",
    "rac{\bar{d}}{s_d / \\sqrt{n}} \\]\n",
    "Where:\n",
    "- \\( \bar{d} \\) is the mean of the differences between paired observations\n",
    "- \\( s_d \\) is the standard deviation of the differences\n",
    "- \\( n \\) is the number of pairs\n",
    "\n",
    "### Code Example:\n",
    "```python\n",
    "from scipy.stats import ttest_rel\n",
    "data1 = [paired_data1]\n",
    "data2 = [paired_data2]\n",
    "t_stat, p_val = ttest_rel(data1, data2)\n",
    "```\n"
   ]
  },
  {
   "cell_type": "markdown",
   "id": "60fd0134",
   "metadata": {},
   "source": [
    "\n",
    "## 4. Chi-squared test for independence\n",
    "\n",
    "### Definition:\n",
    "The chi-squared test for independence determines if there is a significant association between two categorical variables in a contingency table.\n",
    "\n",
    "### Formula:\n",
    "\\[ \\chi^2 = \\sum \f",
    "rac{(O_{ij} - E_{ij})^2}{E_{ij}} \\]\n",
    "Where:\n",
    "- \\( O_{ij} \\) is the observed frequency\n",
    "- \\( E_{ij} \\) is the expected frequency\n",
    "\n",
    "### Code Example:\n",
    "```python\n",
    "from scipy.stats import chi2_contingency\n",
    "table = [[observed_values]]\n",
    "chi2, p_val, _, _ = chi2_contingency(table)\n",
    "```\n"
   ]
  },
  {
   "cell_type": "markdown",
   "id": "b37c45bb",
   "metadata": {},
   "source": [
    "\n",
    "## 5. One-way ANOVA\n",
    "\n",
    "### Definition:\n",
    "One-way ANOVA is used to determine if there are any statistically significant differences between the means of three or more independent groups.\n",
    "\n",
    "### Formula:\n",
    "\\[ F = \f",
    "rac{\text{variance between groups}}{\text{variance within groups}} \\]\n",
    "\n",
    "### Code Example:\n",
    "```python\n",
    "from scipy.stats import f_oneway\n",
    "group1 = [data_group1]\n",
    "group2 = [data_group2]\n",
    "group3 = [data_group3]\n",
    "F_stat, p_val = f_oneway(group1, group2, group3)\n",
    "```\n"
   ]
  },
  {
   "cell_type": "markdown",
   "id": "acaab9b6",
   "metadata": {},
   "source": [
    "\n",
    "## 6. Two-way ANOVA (Brief Overview)\n",
    "\n",
    "### Definition:\n",
    "Two-way ANOVA is an extension of the one-way ANOVA that examines the influence of two different categorical independent variables on one continuous dependent variable.\n",
    "\n",
    "### Formula:\n",
    "There isn't a simple formula like the other tests. It involves multiple calculations.\n",
    "\n",
    "### Code Example:\n",
    "To conduct a two-way ANOVA in Python, one typically uses the `statsmodels` library with its `ols` and `anova_lm` functions.\n"
   ]
  },
  {
   "cell_type": "markdown",
   "id": "b6e545b2",
   "metadata": {},
   "source": [
    "\n",
    "## 7. Pearson correlation coefficient test\n",
    "\n",
    "### Definition:\n",
    "The Pearson correlation coefficient test measures the linear relationship between two datasets.\n",
    "\n",
    "### Formula:\n",
    "\\[ r = \f",
    "rac{\\sum (x_i - \bar{x})(y_i - \bar{y})}{\\sqrt{\\sum (x_i - \bar{x})^2 \\sum (y_i - \bar{y})^2}} \\]\n",
    "\n",
    "### Code Example:\n",
    "```python\n",
    "from scipy.stats import pearsonr\n",
    "data_x = [data_x_values]\n",
    "data_y = [data_y_values]\n",
    "corr_coeff, p_val = pearsonr(data_x, data_y)\n",
    "```\n"
   ]
  }
 ],
 "metadata": {},
 "nbformat": 4,
 "nbformat_minor": 5
}
